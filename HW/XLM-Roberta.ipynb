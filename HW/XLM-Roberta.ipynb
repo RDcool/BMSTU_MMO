{
 "cells": [
  {
   "cell_type": "markdown",
   "id": "48584f83d619a2d9",
   "metadata": {},
   "source": [
    "# Named Entity Recognition. XLM-RoBERTa\n",
    "\n",
    "**Борисочкин М. И. ИУ5-21М**"
   ]
  },
  {
   "cell_type": "code",
   "execution_count": 1,
   "id": "initial_id",
   "metadata": {
    "ExecuteTime": {
     "end_time": "2024-06-06T18:16:40.509350Z",
     "start_time": "2024-06-06T18:16:27.125862Z"
    },
    "collapsed": true,
    "jupyter": {
     "outputs_hidden": true
    }
   },
   "outputs": [],
   "source": [
    "from datasets import load_dataset\n",
    "from transformers import DataCollatorForTokenClassification\n",
    "from transformers import AutoTokenizer, AutoModelForTokenClassification\n",
    "from transformers import TrainingArguments, Trainer\n",
    "\n",
    "import numpy as np\n",
    "import evaluate"
   ]
  },
  {
   "cell_type": "markdown",
   "id": "5f922e51087a7799",
   "metadata": {},
   "source": [
    "## Загрузка набора данных\n",
    "\n",
    "Для обучения будем использовать \"русскую\" часть [WikiNEuRal](https://github.com/Babelscape/wikineural?tab=readme-ov-file)"
   ]
  },
  {
   "cell_type": "code",
   "execution_count": 2,
   "id": "3d6d0276d5b8b8fd",
   "metadata": {
    "ExecuteTime": {
     "end_time": "2024-06-06T18:16:55.573504Z",
     "start_time": "2024-06-06T18:16:40.510354Z"
    }
   },
   "outputs": [],
   "source": [
    "# Загрузка датасета\n",
    "dataset = load_dataset(\"Babelscape/wikineural\")"
   ]
  },
  {
   "cell_type": "code",
   "execution_count": 3,
   "id": "6ce84aa7febb3b0",
   "metadata": {
    "ExecuteTime": {
     "end_time": "2024-06-06T18:16:55.579013Z",
     "start_time": "2024-06-06T18:16:55.574508Z"
    }
   },
   "outputs": [
    {
     "data": {
      "text/plain": [
       "{'tokens': ['Детство',\n",
       "  'провёл',\n",
       "  'в',\n",
       "  'Надьсомбате',\n",
       "  ',',\n",
       "  'с',\n",
       "  '1860',\n",
       "  'г',\n",
       "  '.'],\n",
       " 'ner_tags': [0, 0, 0, 5, 0, 0, 0, 0, 0],\n",
       " 'lang': 'ru'}"
      ]
     },
     "execution_count": 3,
     "metadata": {},
     "output_type": "execute_result"
    }
   ],
   "source": [
    "# Пример стркои из датасета\n",
    "dataset[\"train_ru\"][0]"
   ]
  },
  {
   "cell_type": "markdown",
   "id": "df893fdbc28ce241",
   "metadata": {},
   "source": [
    "## Предобработка данных"
   ]
  },
  {
   "cell_type": "code",
   "execution_count": 4,
   "id": "6f38d5f2cc651cfd",
   "metadata": {
    "ExecuteTime": {
     "end_time": "2024-06-06T18:17:00.301248Z",
     "start_time": "2024-06-06T18:16:55.579013Z"
    }
   },
   "outputs": [
    {
     "data": {
      "application/vnd.jupyter.widget-view+json": {
       "model_id": "c29af9eb3f6540dd987e8fa07cf79731",
       "version_major": 2,
       "version_minor": 0
      },
      "text/plain": [
       "tokenizer_config.json:   0%|          | 0.00/25.0 [00:00<?, ?B/s]"
      ]
     },
     "metadata": {},
     "output_type": "display_data"
    },
    {
     "name": "stderr",
     "output_type": "stream",
     "text": [
      "E:\\МГТУ\\Магистратура\\2 семестр\\ММО\\ДЗ\\HW\\venv\\Lib\\site-packages\\huggingface_hub\\file_download.py:157: UserWarning: `huggingface_hub` cache-system uses symlinks by default to efficiently store duplicated files but your machine does not support them in C:\\Users\\Михаил\\.cache\\huggingface\\hub\\models--FacebookAI--xlm-roberta-base. Caching files will still work but in a degraded version that might require more space on your disk. This warning can be disabled by setting the `HF_HUB_DISABLE_SYMLINKS_WARNING` environment variable. For more details, see https://huggingface.co/docs/huggingface_hub/how-to-cache#limitations.\n",
      "To support symlinks on Windows, you either need to activate Developer Mode or to run Python as an administrator. In order to see activate developer mode, see this article: https://docs.microsoft.com/en-us/windows/apps/get-started/enable-your-device-for-development\n",
      "  warnings.warn(message)\n",
      "E:\\МГТУ\\Магистратура\\2 семестр\\ММО\\ДЗ\\HW\\venv\\Lib\\site-packages\\huggingface_hub\\file_download.py:1132: FutureWarning: `resume_download` is deprecated and will be removed in version 1.0.0. Downloads always resume when possible. If you want to force a new download, use `force_download=True`.\n",
      "  warnings.warn(\n"
     ]
    },
    {
     "data": {
      "application/vnd.jupyter.widget-view+json": {
       "model_id": "33745acfb3a44a9c95c2fc4d0819ed1e",
       "version_major": 2,
       "version_minor": 0
      },
      "text/plain": [
       "config.json:   0%|          | 0.00/615 [00:00<?, ?B/s]"
      ]
     },
     "metadata": {},
     "output_type": "display_data"
    },
    {
     "data": {
      "application/vnd.jupyter.widget-view+json": {
       "model_id": "f7006335d6724f1dbd534c80690e0cc3",
       "version_major": 2,
       "version_minor": 0
      },
      "text/plain": [
       "sentencepiece.bpe.model:   0%|          | 0.00/5.07M [00:00<?, ?B/s]"
      ]
     },
     "metadata": {},
     "output_type": "display_data"
    },
    {
     "data": {
      "application/vnd.jupyter.widget-view+json": {
       "model_id": "91dd7772a74f47168dc48fe88bf1610c",
       "version_major": 2,
       "version_minor": 0
      },
      "text/plain": [
       "tokenizer.json:   0%|          | 0.00/9.10M [00:00<?, ?B/s]"
      ]
     },
     "metadata": {},
     "output_type": "display_data"
    }
   ],
   "source": [
    "# Загрузка токенизатора\n",
    "tokenizer = AutoTokenizer.from_pretrained(\"FacebookAI/xlm-roberta-base\")"
   ]
  },
  {
   "cell_type": "code",
   "execution_count": 5,
   "id": "87a257c0b1a43cd1",
   "metadata": {
    "ExecuteTime": {
     "end_time": "2024-06-06T18:17:00.312851Z",
     "start_time": "2024-06-06T18:17:00.302253Z"
    }
   },
   "outputs": [
    {
     "data": {
      "text/plain": [
       "['<s>',\n",
       " '▁Де',\n",
       " 'т',\n",
       " 'ство',\n",
       " '▁пров',\n",
       " 'ёл',\n",
       " '▁в',\n",
       " '▁На',\n",
       " 'дь',\n",
       " 'сом',\n",
       " 'ба',\n",
       " 'те',\n",
       " '▁',\n",
       " ',',\n",
       " '▁с',\n",
       " '▁1860',\n",
       " '▁г',\n",
       " '▁',\n",
       " '.',\n",
       " '</s>']"
      ]
     },
     "execution_count": 5,
     "metadata": {},
     "output_type": "execute_result"
    }
   ],
   "source": [
    "# Пример работы токенизатора\n",
    "example = dataset[\"train_ru\"][0]\n",
    "tokenized_input = tokenizer(example[\"tokens\"], is_split_into_words=True)\n",
    "tokens = tokenizer.convert_ids_to_tokens(tokenized_input[\"input_ids\"])\n",
    "tokens"
   ]
  },
  {
   "cell_type": "code",
   "execution_count": 6,
   "id": "64a7ce7b24188dfc",
   "metadata": {
    "ExecuteTime": {
     "end_time": "2024-06-06T18:17:00.316863Z",
     "start_time": "2024-06-06T18:17:00.312851Z"
    }
   },
   "outputs": [],
   "source": [
    "def tokenize_and_align_labels(examples):\n",
    "    \"\"\"Корректировка токенизации\n",
    "    Parameters\n",
    "    ----------\n",
    "    examples\n",
    "        Входное предложение\n",
    "    Returns\n",
    "    -------\n",
    "        tokenized_inputs\n",
    "            Токенизированный вход\n",
    "    \"\"\"\n",
    "    tokenized_inputs = tokenizer(\n",
    "        examples[\"tokens\"], truncation=True, is_split_into_words=True\n",
    "    )\n",
    "\n",
    "    labels = []\n",
    "    for i, label in enumerate(examples[f\"ner_tags\"]):\n",
    "        word_ids = tokenized_inputs.word_ids(batch_index=i)  # Токенизация\n",
    "        previous_word_idx = None\n",
    "        label_ids = []\n",
    "        for word_idx in word_ids:  # Установка значения спец. токенов -100\n",
    "            if word_idx is None:\n",
    "                label_ids.append(-100)\n",
    "            elif (\n",
    "                word_idx != previous_word_idx\n",
    "            ):  # Применяем метку только к первому слову в предложении при нескольких одинаковых словах в предложениии\n",
    "                label_ids.append(label[word_idx])\n",
    "            else:\n",
    "                label_ids.append(-100)\n",
    "            previous_word_idx = word_idx\n",
    "        labels.append(label_ids)\n",
    "\n",
    "    tokenized_inputs[\"labels\"] = labels\n",
    "    return tokenized_inputs"
   ]
  },
  {
   "cell_type": "code",
   "execution_count": 7,
   "id": "d2a7b3ef66d7c9cd",
   "metadata": {
    "ExecuteTime": {
     "end_time": "2024-06-06T18:18:04.398428Z",
     "start_time": "2024-06-06T18:17:00.316863Z"
    }
   },
   "outputs": [
    {
     "data": {
      "application/vnd.jupyter.widget-view+json": {
       "model_id": "f8d58c3723de4e22b4acc6f68b659113",
       "version_major": 2,
       "version_minor": 0
      },
      "text/plain": [
       "Map:   0%|          | 0/12372 [00:00<?, ? examples/s]"
      ]
     },
     "metadata": {},
     "output_type": "display_data"
    },
    {
     "data": {
      "application/vnd.jupyter.widget-view+json": {
       "model_id": "7058bdcfe1c64e118634269f0f06f5bc",
       "version_major": 2,
       "version_minor": 0
      },
      "text/plain": [
       "Map:   0%|          | 0/11597 [00:00<?, ? examples/s]"
      ]
     },
     "metadata": {},
     "output_type": "display_data"
    },
    {
     "data": {
      "application/vnd.jupyter.widget-view+json": {
       "model_id": "bda688cb02934869b7339074d1b3decf",
       "version_major": 2,
       "version_minor": 0
      },
      "text/plain": [
       "Map:   0%|          | 0/9618 [00:00<?, ? examples/s]"
      ]
     },
     "metadata": {},
     "output_type": "display_data"
    },
    {
     "data": {
      "application/vnd.jupyter.widget-view+json": {
       "model_id": "514972117a1a4db4af3df7eaeffd34e8",
       "version_major": 2,
       "version_minor": 0
      },
      "text/plain": [
       "Map:   0%|          | 0/12678 [00:00<?, ? examples/s]"
      ]
     },
     "metadata": {},
     "output_type": "display_data"
    },
    {
     "data": {
      "application/vnd.jupyter.widget-view+json": {
       "model_id": "6536f977d16d40dc831d5518c42bf4b6",
       "version_major": 2,
       "version_minor": 0
      },
      "text/plain": [
       "Map:   0%|          | 0/11069 [00:00<?, ? examples/s]"
      ]
     },
     "metadata": {},
     "output_type": "display_data"
    },
    {
     "data": {
      "application/vnd.jupyter.widget-view+json": {
       "model_id": "c56c424fc86144c796a667dfa200b8a2",
       "version_major": 2,
       "version_minor": 0
      },
      "text/plain": [
       "Map:   0%|          | 0/10547 [00:00<?, ? examples/s]"
      ]
     },
     "metadata": {},
     "output_type": "display_data"
    },
    {
     "data": {
      "application/vnd.jupyter.widget-view+json": {
       "model_id": "4ea45522f90a441abc54c06509eb5aa7",
       "version_major": 2,
       "version_minor": 0
      },
      "text/plain": [
       "Map:   0%|          | 0/13585 [00:00<?, ? examples/s]"
      ]
     },
     "metadata": {},
     "output_type": "display_data"
    },
    {
     "data": {
      "application/vnd.jupyter.widget-view+json": {
       "model_id": "b011976dbcbd46bb953f1ddab3b3e686",
       "version_major": 2,
       "version_minor": 0
      },
      "text/plain": [
       "Map:   0%|          | 0/10160 [00:00<?, ? examples/s]"
      ]
     },
     "metadata": {},
     "output_type": "display_data"
    },
    {
     "data": {
      "application/vnd.jupyter.widget-view+json": {
       "model_id": "5dc5ff0884e44574a22004d4069729ca",
       "version_major": 2,
       "version_minor": 0
      },
      "text/plain": [
       "Map:   0%|          | 0/11580 [00:00<?, ? examples/s]"
      ]
     },
     "metadata": {},
     "output_type": "display_data"
    },
    {
     "data": {
      "application/vnd.jupyter.widget-view+json": {
       "model_id": "cb3eeba847d9497b98bf067d017bd2ae",
       "version_major": 2,
       "version_minor": 0
      },
      "text/plain": [
       "Map:   0%|          | 0/98640 [00:00<?, ? examples/s]"
      ]
     },
     "metadata": {},
     "output_type": "display_data"
    },
    {
     "data": {
      "application/vnd.jupyter.widget-view+json": {
       "model_id": "6580a45223f64156b863ab426fbc738c",
       "version_major": 2,
       "version_minor": 0
      },
      "text/plain": [
       "Map:   0%|          | 0/92720 [00:00<?, ? examples/s]"
      ]
     },
     "metadata": {},
     "output_type": "display_data"
    },
    {
     "data": {
      "application/vnd.jupyter.widget-view+json": {
       "model_id": "cd5a7a896c9e44eb994e76ffe9606b8f",
       "version_major": 2,
       "version_minor": 0
      },
      "text/plain": [
       "Map:   0%|          | 0/76320 [00:00<?, ? examples/s]"
      ]
     },
     "metadata": {},
     "output_type": "display_data"
    },
    {
     "data": {
      "application/vnd.jupyter.widget-view+json": {
       "model_id": "7eaa4d9cebea4c4dac67db5c8adea802",
       "version_major": 2,
       "version_minor": 0
      },
      "text/plain": [
       "Map:   0%|          | 0/100800 [00:00<?, ? examples/s]"
      ]
     },
     "metadata": {},
     "output_type": "display_data"
    },
    {
     "data": {
      "application/vnd.jupyter.widget-view+json": {
       "model_id": "8afcad535e3e45e3bf2435230be3dde1",
       "version_major": 2,
       "version_minor": 0
      },
      "text/plain": [
       "Map:   0%|          | 0/88400 [00:00<?, ? examples/s]"
      ]
     },
     "metadata": {},
     "output_type": "display_data"
    },
    {
     "data": {
      "application/vnd.jupyter.widget-view+json": {
       "model_id": "6d0eb067ea7441b4bbd65e840b18d798",
       "version_major": 2,
       "version_minor": 0
      },
      "text/plain": [
       "Map:   0%|          | 0/83680 [00:00<?, ? examples/s]"
      ]
     },
     "metadata": {},
     "output_type": "display_data"
    },
    {
     "data": {
      "application/vnd.jupyter.widget-view+json": {
       "model_id": "99156eb3276a4494bb20bfaa6536c2ac",
       "version_major": 2,
       "version_minor": 0
      },
      "text/plain": [
       "Map:   0%|          | 0/108160 [00:00<?, ? examples/s]"
      ]
     },
     "metadata": {},
     "output_type": "display_data"
    },
    {
     "data": {
      "application/vnd.jupyter.widget-view+json": {
       "model_id": "77e13b7848a74d95b47a106cdb930d00",
       "version_major": 2,
       "version_minor": 0
      },
      "text/plain": [
       "Map:   0%|          | 0/80560 [00:00<?, ? examples/s]"
      ]
     },
     "metadata": {},
     "output_type": "display_data"
    },
    {
     "data": {
      "application/vnd.jupyter.widget-view+json": {
       "model_id": "3a844cd9da484c3faefc15318a9155ca",
       "version_major": 2,
       "version_minor": 0
      },
      "text/plain": [
       "Map:   0%|          | 0/92320 [00:00<?, ? examples/s]"
      ]
     },
     "metadata": {},
     "output_type": "display_data"
    },
    {
     "data": {
      "application/vnd.jupyter.widget-view+json": {
       "model_id": "92d718afa9e342919b6524abb133fece",
       "version_major": 2,
       "version_minor": 0
      },
      "text/plain": [
       "Map:   0%|          | 0/12330 [00:00<?, ? examples/s]"
      ]
     },
     "metadata": {},
     "output_type": "display_data"
    },
    {
     "data": {
      "application/vnd.jupyter.widget-view+json": {
       "model_id": "273fb34ac4ec445798979b23cbfcb3ee",
       "version_major": 2,
       "version_minor": 0
      },
      "text/plain": [
       "Map:   0%|          | 0/11590 [00:00<?, ? examples/s]"
      ]
     },
     "metadata": {},
     "output_type": "display_data"
    },
    {
     "data": {
      "application/vnd.jupyter.widget-view+json": {
       "model_id": "2ac07232efe9417a9643fd8ff5f64501",
       "version_major": 2,
       "version_minor": 0
      },
      "text/plain": [
       "Map:   0%|          | 0/9540 [00:00<?, ? examples/s]"
      ]
     },
     "metadata": {},
     "output_type": "display_data"
    },
    {
     "data": {
      "application/vnd.jupyter.widget-view+json": {
       "model_id": "3d4f28ce3f3e452fbee3b8961942b67e",
       "version_major": 2,
       "version_minor": 0
      },
      "text/plain": [
       "Map:   0%|          | 0/12600 [00:00<?, ? examples/s]"
      ]
     },
     "metadata": {},
     "output_type": "display_data"
    },
    {
     "data": {
      "application/vnd.jupyter.widget-view+json": {
       "model_id": "067227fbc0f64b17b190e2f75c63db20",
       "version_major": 2,
       "version_minor": 0
      },
      "text/plain": [
       "Map:   0%|          | 0/11050 [00:00<?, ? examples/s]"
      ]
     },
     "metadata": {},
     "output_type": "display_data"
    },
    {
     "data": {
      "application/vnd.jupyter.widget-view+json": {
       "model_id": "c38bea7241274af482ecc154177c272a",
       "version_major": 2,
       "version_minor": 0
      },
      "text/plain": [
       "Map:   0%|          | 0/10460 [00:00<?, ? examples/s]"
      ]
     },
     "metadata": {},
     "output_type": "display_data"
    },
    {
     "data": {
      "application/vnd.jupyter.widget-view+json": {
       "model_id": "3f45b0aee051479bb1573cfbbaeae99f",
       "version_major": 2,
       "version_minor": 0
      },
      "text/plain": [
       "Map:   0%|          | 0/13520 [00:00<?, ? examples/s]"
      ]
     },
     "metadata": {},
     "output_type": "display_data"
    },
    {
     "data": {
      "application/vnd.jupyter.widget-view+json": {
       "model_id": "faa1d62d078a422c995434d58cbf382b",
       "version_major": 2,
       "version_minor": 0
      },
      "text/plain": [
       "Map:   0%|          | 0/10070 [00:00<?, ? examples/s]"
      ]
     },
     "metadata": {},
     "output_type": "display_data"
    },
    {
     "data": {
      "application/vnd.jupyter.widget-view+json": {
       "model_id": "4161bdf99eec42fd91eccf20f24533ca",
       "version_major": 2,
       "version_minor": 0
      },
      "text/plain": [
       "Map:   0%|          | 0/11540 [00:00<?, ? examples/s]"
      ]
     },
     "metadata": {},
     "output_type": "display_data"
    }
   ],
   "source": [
    "# Применение токенизатора к датасету\n",
    "tokenized_dataset = dataset.map(tokenize_and_align_labels, batched=True)"
   ]
  },
  {
   "cell_type": "code",
   "execution_count": 8,
   "id": "4cbefeaa1fe7337b",
   "metadata": {
    "ExecuteTime": {
     "end_time": "2024-06-06T18:18:04.401363Z",
     "start_time": "2024-06-06T18:18:04.398936Z"
    }
   },
   "outputs": [],
   "source": [
    "# Загрузка DataCollator\n",
    "data_collator = DataCollatorForTokenClassification(tokenizer=tokenizer)"
   ]
  },
  {
   "cell_type": "markdown",
   "id": "41aa78b673fa31b5",
   "metadata": {},
   "source": [
    "## Обучение модели"
   ]
  },
  {
   "cell_type": "markdown",
   "id": "85e25afddb9d960a",
   "metadata": {},
   "source": [
    "### Метрики качества"
   ]
  },
  {
   "cell_type": "code",
   "execution_count": 9,
   "id": "7e45963a27bbb439",
   "metadata": {
    "ExecuteTime": {
     "end_time": "2024-06-06T18:18:05.555448Z",
     "start_time": "2024-06-06T18:18:04.401363Z"
    }
   },
   "outputs": [],
   "source": [
    "seqeval = evaluate.load(\"seqeval\")"
   ]
  },
  {
   "cell_type": "code",
   "execution_count": 10,
   "id": "7356ba3eb20146ab",
   "metadata": {
    "ExecuteTime": {
     "end_time": "2024-06-06T18:18:05.559988Z",
     "start_time": "2024-06-06T18:18:05.555448Z"
    }
   },
   "outputs": [],
   "source": [
    "def compute_metrics(p):\n",
    "    \"\"\"Функция для расчёта метрик\n",
    "    Parameters\n",
    "    ----------\n",
    "    p\n",
    "        Предсказание\n",
    "    Returns\n",
    "    -------\n",
    "    metrics\n",
    "        Метрики качества\n",
    "    \"\"\"\n",
    "    predictions, labels = p\n",
    "    predictions = np.argmax(predictions, axis=2)\n",
    "    label_list = [\n",
    "        \"O\",\n",
    "        \"B-PER\",\n",
    "        \"I-PER\",\n",
    "        \"B-ORG\",\n",
    "        \"I-ORG\",\n",
    "        \"B-LOC\",\n",
    "        \"I-LOC\",\n",
    "        \"B-MISC\",\n",
    "        \"I-MISC\",\n",
    "    ]\n",
    "\n",
    "    true_predictions = [\n",
    "        [label_list[p] for (p, l) in zip(prediction, label) if l != -100]\n",
    "        for prediction, label in zip(predictions, labels)\n",
    "    ]\n",
    "    true_labels = [\n",
    "        [label_list[l] for (p, l) in zip(prediction, label) if l != -100]\n",
    "        for prediction, label in zip(predictions, labels)\n",
    "    ]\n",
    "\n",
    "    results = seqeval.compute(predictions=true_predictions, references=true_labels)\n",
    "    return {\n",
    "        \"precision\": results[\"overall_precision\"],\n",
    "        \"recall\": results[\"overall_recall\"],\n",
    "        \"f1\": results[\"overall_f1\"],\n",
    "        \"accuracy\": results[\"overall_accuracy\"],\n",
    "    }"
   ]
  },
  {
   "cell_type": "markdown",
   "id": "47c97d2b194b9a67",
   "metadata": {},
   "source": [
    "### Загрузка и обучение модели\n",
    "\n",
    "Для обучения будем использовать [базовую версию](https://huggingface.co/FacebookAI/xlm-roberta-base) XLM-RoBERTa"
   ]
  },
  {
   "cell_type": "code",
   "execution_count": 11,
   "id": "489128db20b8889f",
   "metadata": {
    "ExecuteTime": {
     "end_time": "2024-06-06T18:18:05.567295Z",
     "start_time": "2024-06-06T18:18:05.560993Z"
    }
   },
   "outputs": [],
   "source": [
    "id2label = {\n",
    "    0: \"O\",\n",
    "    1: \"B-PER\",\n",
    "    2: \"I-PER\",\n",
    "    3: \"B-ORG\",\n",
    "    4: \"I-ORG\",\n",
    "    5: \"B-LOC\",\n",
    "    6: \"I-LOC\",\n",
    "    7: \"B-MISC\",\n",
    "    8: \"I-MISC\",\n",
    "}\n",
    "label2id = {\n",
    "    \"O\": 0,\n",
    "    \"B-PER\": 1,\n",
    "    \"I-PER\": 2,\n",
    "    \"B-ORG\": 3,\n",
    "    \"I-ORG\": 4,\n",
    "    \"B-LOC\": 5,\n",
    "    \"I-LOC\": 6,\n",
    "    \"B-MISC\": 7,\n",
    "    \"I-MISC\": 8,\n",
    "}"
   ]
  },
  {
   "cell_type": "code",
   "execution_count": 12,
   "id": "59c5766ef99ce834",
   "metadata": {
    "ExecuteTime": {
     "end_time": "2024-06-06T18:19:47.518946Z",
     "start_time": "2024-06-06T18:18:05.568300Z"
    }
   },
   "outputs": [
    {
     "data": {
      "application/vnd.jupyter.widget-view+json": {
       "model_id": "171154edf6694faaa79e82e5a6e3582b",
       "version_major": 2,
       "version_minor": 0
      },
      "text/plain": [
       "model.safetensors:   0%|          | 0.00/1.12G [00:00<?, ?B/s]"
      ]
     },
     "metadata": {},
     "output_type": "display_data"
    },
    {
     "name": "stderr",
     "output_type": "stream",
     "text": [
      "Some weights of XLMRobertaForTokenClassification were not initialized from the model checkpoint at FacebookAI/xlm-roberta-base and are newly initialized: ['classifier.bias', 'classifier.weight']\n",
      "You should probably TRAIN this model on a down-stream task to be able to use it for predictions and inference.\n"
     ]
    }
   ],
   "source": [
    "# Загрузка модели\n",
    "model = AutoModelForTokenClassification.from_pretrained(\n",
    "    \"FacebookAI/xlm-roberta-base\", num_labels=9, id2label=id2label, label2id=label2id\n",
    ")"
   ]
  },
  {
   "cell_type": "code",
   "execution_count": 13,
   "id": "8879d4543914f012",
   "metadata": {
    "ExecuteTime": {
     "end_time": "2024-06-06T18:19:47.581026Z",
     "start_time": "2024-06-06T18:19:47.518946Z"
    }
   },
   "outputs": [],
   "source": [
    "# Аргументы для обучения\n",
    "training_args = TrainingArguments(\n",
    "    output_dir=\"XLM-RoBERTa\",\n",
    "    learning_rate=2e-5,\n",
    "    per_device_train_batch_size=16,\n",
    "    per_device_eval_batch_size=16,\n",
    "    num_train_epochs=3,\n",
    "    weight_decay=0.01,\n",
    "    eval_strategy=\"epoch\",\n",
    "    save_strategy=\"epoch\",\n",
    "    load_best_model_at_end=True,\n",
    "    push_to_hub=False,\n",
    ")"
   ]
  },
  {
   "cell_type": "code",
   "execution_count": 14,
   "id": "a2ff375ceac6482d",
   "metadata": {
    "ExecuteTime": {
     "end_time": "2024-06-06T18:19:47.921244Z",
     "start_time": "2024-06-06T18:19:47.582030Z"
    }
   },
   "outputs": [],
   "source": [
    "# Описание тренера\n",
    "trainer = Trainer(\n",
    "    model=model,\n",
    "    args=training_args,\n",
    "    train_dataset=tokenized_dataset[\"train_ru\"],\n",
    "    eval_dataset=tokenized_dataset[\"val_ru\"],\n",
    "    tokenizer=tokenizer,\n",
    "    data_collator=data_collator,\n",
    "    compute_metrics=compute_metrics,\n",
    ")"
   ]
  },
  {
   "cell_type": "code",
   "execution_count": 15,
   "id": "a266debbc8874b77",
   "metadata": {
    "ExecuteTime": {
     "end_time": "2024-06-06T19:30:11.946169Z",
     "start_time": "2024-06-06T18:19:47.921244Z"
    }
   },
   "outputs": [
    {
     "data": {
      "text/html": [
       "\n",
       "    <div>\n",
       "      \n",
       "      <progress value='17310' max='17310' style='width:300px; height:20px; vertical-align: middle;'></progress>\n",
       "      [17310/17310 1:10:23, Epoch 3/3]\n",
       "    </div>\n",
       "    <table border=\"1\" class=\"dataframe\">\n",
       "  <thead>\n",
       " <tr style=\"text-align: left;\">\n",
       "      <th>Epoch</th>\n",
       "      <th>Training Loss</th>\n",
       "      <th>Validation Loss</th>\n",
       "      <th>Precision</th>\n",
       "      <th>Recall</th>\n",
       "      <th>F1</th>\n",
       "      <th>Accuracy</th>\n",
       "    </tr>\n",
       "  </thead>\n",
       "  <tbody>\n",
       "    <tr>\n",
       "      <td>1</td>\n",
       "      <td>0.052900</td>\n",
       "      <td>0.047823</td>\n",
       "      <td>0.876401</td>\n",
       "      <td>0.888962</td>\n",
       "      <td>0.882637</td>\n",
       "      <td>0.984014</td>\n",
       "    </tr>\n",
       "    <tr>\n",
       "      <td>2</td>\n",
       "      <td>0.035900</td>\n",
       "      <td>0.044788</td>\n",
       "      <td>0.886792</td>\n",
       "      <td>0.903350</td>\n",
       "      <td>0.894995</td>\n",
       "      <td>0.985264</td>\n",
       "    </tr>\n",
       "    <tr>\n",
       "      <td>3</td>\n",
       "      <td>0.024800</td>\n",
       "      <td>0.045815</td>\n",
       "      <td>0.897186</td>\n",
       "      <td>0.905217</td>\n",
       "      <td>0.901184</td>\n",
       "      <td>0.986112</td>\n",
       "    </tr>\n",
       "  </tbody>\n",
       "</table><p>"
      ],
      "text/plain": [
       "<IPython.core.display.HTML object>"
      ]
     },
     "metadata": {},
     "output_type": "display_data"
    },
    {
     "data": {
      "text/plain": [
       "TrainOutput(global_step=17310, training_loss=0.04422337971692275, metrics={'train_runtime': 4223.9292, 'train_samples_per_second': 65.569, 'train_steps_per_second': 4.098, 'total_flos': 1.1444321839124448e+16, 'train_loss': 0.04422337971692275, 'epoch': 3.0})"
      ]
     },
     "execution_count": 15,
     "metadata": {},
     "output_type": "execute_result"
    }
   ],
   "source": [
    "# Обучение модели\n",
    "trainer.train()"
   ]
  },
  {
   "cell_type": "code",
   "execution_count": 16,
   "id": "c7bc6c52a705368f",
   "metadata": {
    "ExecuteTime": {
     "end_time": "2024-06-06T19:30:44.514715Z",
     "start_time": "2024-06-06T19:30:11.946169Z"
    }
   },
   "outputs": [
    {
     "data": {
      "text/html": [
       "\n",
       "    <div>\n",
       "      \n",
       "      <progress value='722' max='722' style='width:300px; height:20px; vertical-align: middle;'></progress>\n",
       "      [722/722 00:29]\n",
       "    </div>\n",
       "    "
      ],
      "text/plain": [
       "<IPython.core.display.HTML object>"
      ]
     },
     "metadata": {},
     "output_type": "display_data"
    },
    {
     "data": {
      "text/plain": [
       "{'eval_loss': 0.044788189232349396,\n",
       " 'eval_precision': 0.8867924528301887,\n",
       " 'eval_recall': 0.9033498077979132,\n",
       " 'eval_f1': 0.8949945593035908,\n",
       " 'eval_accuracy': 0.9852637987574546,\n",
       " 'eval_runtime': 32.5625,\n",
       " 'eval_samples_per_second': 354.395,\n",
       " 'eval_steps_per_second': 22.173,\n",
       " 'epoch': 3.0}"
      ]
     },
     "execution_count": 16,
     "metadata": {},
     "output_type": "execute_result"
    }
   ],
   "source": [
    "# Качество лучшей модели\n",
    "trainer.evaluate()"
   ]
  },
  {
   "cell_type": "code",
   "execution_count": 17,
   "id": "aef00866a4936e58",
   "metadata": {
    "ExecuteTime": {
     "end_time": "2024-06-06T19:30:51.954642Z",
     "start_time": "2024-06-06T19:30:44.515719Z"
    }
   },
   "outputs": [],
   "source": [
    "# Сохранение модели\n",
    "trainer.save_model(\"XLM-RoBERTa/XLM-RoBERTa_best_model/\")"
   ]
  }
 ],
 "metadata": {
  "kernelspec": {
   "display_name": "Python 3 (ipykernel)",
   "language": "python",
   "name": "python3"
  },
  "language_info": {
   "codemirror_mode": {
    "name": "ipython",
    "version": 3
   },
   "file_extension": ".py",
   "mimetype": "text/x-python",
   "name": "python",
   "nbconvert_exporter": "python",
   "pygments_lexer": "ipython3",
   "version": "3.11.8"
  }
 },
 "nbformat": 4,
 "nbformat_minor": 5
}
