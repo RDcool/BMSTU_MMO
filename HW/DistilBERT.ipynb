{
 "cells": [
  {
   "cell_type": "markdown",
   "id": "48584f83d619a2d9",
   "metadata": {},
   "source": [
    "# Named Entity Recognition. DistilBERT\n",
    "\n",
    "**Борисочкин М. И. ИУ5-21М**"
   ]
  },
  {
   "cell_type": "code",
   "execution_count": 1,
   "id": "initial_id",
   "metadata": {
    "ExecuteTime": {
     "end_time": "2024-06-06T16:28:37.728273Z",
     "start_time": "2024-06-06T16:28:34.617963Z"
    },
    "collapsed": true,
    "jupyter": {
     "outputs_hidden": true
    }
   },
   "outputs": [],
   "source": [
    "from datasets import load_dataset\n",
    "from transformers import DataCollatorForTokenClassification\n",
    "from transformers import AutoTokenizer, AutoModelForTokenClassification\n",
    "from transformers import TrainingArguments, Trainer\n",
    "\n",
    "import numpy as np\n",
    "import evaluate"
   ]
  },
  {
   "cell_type": "markdown",
   "id": "5f922e51087a7799",
   "metadata": {},
   "source": [
    "## Загрузка набора данных\n",
    "\n",
    "Для обучения будем использовать \"русскую\" часть [WikiNEuRal](https://github.com/Babelscape/wikineural?tab=readme-ov-file)"
   ]
  },
  {
   "cell_type": "code",
   "execution_count": 2,
   "id": "3d6d0276d5b8b8fd",
   "metadata": {
    "ExecuteTime": {
     "end_time": "2024-06-06T16:28:55.864523Z",
     "start_time": "2024-06-06T16:28:37.729278Z"
    }
   },
   "outputs": [],
   "source": [
    "# Загрузка датасета\n",
    "dataset = load_dataset(\"Babelscape/wikineural\")"
   ]
  },
  {
   "cell_type": "code",
   "execution_count": 3,
   "id": "6ce84aa7febb3b0",
   "metadata": {
    "ExecuteTime": {
     "end_time": "2024-06-06T16:28:55.870296Z",
     "start_time": "2024-06-06T16:28:55.864523Z"
    }
   },
   "outputs": [
    {
     "data": {
      "text/plain": [
       "{'tokens': ['Детство',\n",
       "  'провёл',\n",
       "  'в',\n",
       "  'Надьсомбате',\n",
       "  ',',\n",
       "  'с',\n",
       "  '1860',\n",
       "  'г',\n",
       "  '.'],\n",
       " 'ner_tags': [0, 0, 0, 5, 0, 0, 0, 0, 0],\n",
       " 'lang': 'ru'}"
      ]
     },
     "execution_count": 3,
     "metadata": {},
     "output_type": "execute_result"
    }
   ],
   "source": [
    "# Пример стркои из датасета\n",
    "dataset[\"train_ru\"][0]"
   ]
  },
  {
   "cell_type": "markdown",
   "id": "df893fdbc28ce241",
   "metadata": {},
   "source": [
    "## Предобработка данных"
   ]
  },
  {
   "cell_type": "code",
   "execution_count": 4,
   "id": "6f38d5f2cc651cfd",
   "metadata": {
    "ExecuteTime": {
     "end_time": "2024-06-06T16:28:56.132237Z",
     "start_time": "2024-06-06T16:28:55.870296Z"
    }
   },
   "outputs": [],
   "source": [
    "# Загрузка токенизатора\n",
    "tokenizer = AutoTokenizer.from_pretrained(\n",
    "    \"distilbert/distilbert-base-multilingual-cased\"\n",
    ")"
   ]
  },
  {
   "cell_type": "code",
   "execution_count": 5,
   "id": "87a257c0b1a43cd1",
   "metadata": {
    "ExecuteTime": {
     "end_time": "2024-06-06T16:28:56.138675Z",
     "start_time": "2024-06-06T16:28:56.133244Z"
    }
   },
   "outputs": [
    {
     "data": {
      "text/plain": [
       "['[CLS]',\n",
       " 'Де',\n",
       " '##тство',\n",
       " 'провёл',\n",
       " 'в',\n",
       " 'Над',\n",
       " '##ь',\n",
       " '##сом',\n",
       " '##бат',\n",
       " '##е',\n",
       " ',',\n",
       " 'с',\n",
       " '1860',\n",
       " 'г',\n",
       " '.',\n",
       " '[SEP]']"
      ]
     },
     "execution_count": 5,
     "metadata": {},
     "output_type": "execute_result"
    }
   ],
   "source": [
    "# Пример работы токенизатора\n",
    "example = dataset[\"train_ru\"][0]\n",
    "tokenized_input = tokenizer(example[\"tokens\"], is_split_into_words=True)\n",
    "tokens = tokenizer.convert_ids_to_tokens(tokenized_input[\"input_ids\"])\n",
    "tokens"
   ]
  },
  {
   "cell_type": "code",
   "execution_count": 6,
   "id": "64a7ce7b24188dfc",
   "metadata": {
    "ExecuteTime": {
     "end_time": "2024-06-06T16:28:56.143518Z",
     "start_time": "2024-06-06T16:28:56.138675Z"
    }
   },
   "outputs": [],
   "source": [
    "def tokenize_and_align_labels(examples):\n",
    "    \"\"\"Корректировка токенизации\n",
    "    Parameters\n",
    "    ----------\n",
    "    examples\n",
    "        Входное предложение\n",
    "    Returns\n",
    "    -------\n",
    "        tokenized_inputs\n",
    "            Токенизированный вход\n",
    "    \"\"\"\n",
    "    tokenized_inputs = tokenizer(\n",
    "        examples[\"tokens\"], truncation=True, is_split_into_words=True\n",
    "    )\n",
    "\n",
    "    labels = []\n",
    "    for i, label in enumerate(examples[f\"ner_tags\"]):\n",
    "        word_ids = tokenized_inputs.word_ids(batch_index=i)  # Токенизация\n",
    "        previous_word_idx = None\n",
    "        label_ids = []\n",
    "        for word_idx in word_ids:  # Установка значения спец. токенов -100\n",
    "            if word_idx is None:\n",
    "                label_ids.append(-100)\n",
    "            elif (\n",
    "                word_idx != previous_word_idx\n",
    "            ):  # Применяем метку только к первому слову в предложении при нескольких одинаковых словах в предложениии\n",
    "                label_ids.append(label[word_idx])\n",
    "            else:\n",
    "                label_ids.append(-100)\n",
    "            previous_word_idx = word_idx\n",
    "        labels.append(label_ids)\n",
    "\n",
    "    tokenized_inputs[\"labels\"] = labels\n",
    "    return tokenized_inputs"
   ]
  },
  {
   "cell_type": "code",
   "execution_count": 7,
   "id": "d2a7b3ef66d7c9cd",
   "metadata": {
    "ExecuteTime": {
     "end_time": "2024-06-06T16:28:57.318163Z",
     "start_time": "2024-06-06T16:28:56.143518Z"
    }
   },
   "outputs": [
    {
     "data": {
      "application/vnd.jupyter.widget-view+json": {
       "model_id": "d87d810065ac4254b36b5c10212e44ad",
       "version_major": 2,
       "version_minor": 0
      },
      "text/plain": [
       "Map:   0%|          | 0/11069 [00:00<?, ? examples/s]"
      ]
     },
     "metadata": {},
     "output_type": "display_data"
    }
   ],
   "source": [
    "# Применение токенизатора к датасету\n",
    "tokenized_dataset = dataset.map(tokenize_and_align_labels, batched=True)"
   ]
  },
  {
   "cell_type": "code",
   "execution_count": 8,
   "id": "4cbefeaa1fe7337b",
   "metadata": {
    "ExecuteTime": {
     "end_time": "2024-06-06T16:28:57.321019Z",
     "start_time": "2024-06-06T16:28:57.318163Z"
    }
   },
   "outputs": [],
   "source": [
    "# Загрузка DataCollator\n",
    "data_collator = DataCollatorForTokenClassification(tokenizer=tokenizer)"
   ]
  },
  {
   "cell_type": "markdown",
   "id": "41aa78b673fa31b5",
   "metadata": {},
   "source": [
    "## Обучение модели"
   ]
  },
  {
   "cell_type": "markdown",
   "id": "85e25afddb9d960a",
   "metadata": {},
   "source": [
    "### Метрики качества"
   ]
  },
  {
   "cell_type": "code",
   "execution_count": 9,
   "id": "7e45963a27bbb439",
   "metadata": {
    "ExecuteTime": {
     "end_time": "2024-06-06T16:28:58.411998Z",
     "start_time": "2024-06-06T16:28:57.321019Z"
    }
   },
   "outputs": [],
   "source": [
    "seqeval = evaluate.load(\"seqeval\")"
   ]
  },
  {
   "cell_type": "code",
   "execution_count": 12,
   "id": "7356ba3eb20146ab",
   "metadata": {
    "ExecuteTime": {
     "end_time": "2024-06-06T16:28:58.959783Z",
     "start_time": "2024-06-06T16:28:58.955762Z"
    }
   },
   "outputs": [],
   "source": [
    "def compute_metrics(p):\n",
    "    \"\"\"Функция для расчёта метрик\n",
    "    Parameters\n",
    "    ----------\n",
    "    p\n",
    "        Предсказание\n",
    "    Returns\n",
    "    -------\n",
    "    metrics\n",
    "        Метрики качества\n",
    "    \"\"\"\n",
    "    predictions, labels = p\n",
    "    predictions = np.argmax(predictions, axis=2)\n",
    "    label_list = [\n",
    "        \"O\",\n",
    "        \"B-PER\",\n",
    "        \"I-PER\",\n",
    "        \"B-ORG\",\n",
    "        \"I-ORG\",\n",
    "        \"B-LOC\",\n",
    "        \"I-LOC\",\n",
    "        \"B-MISC\",\n",
    "        \"I-MISC\",\n",
    "    ]\n",
    "\n",
    "    true_predictions = [\n",
    "        [label_list[p] for (p, l) in zip(prediction, label) if l != -100]\n",
    "        for prediction, label in zip(predictions, labels)\n",
    "    ]\n",
    "    true_labels = [\n",
    "        [label_list[l] for (p, l) in zip(prediction, label) if l != -100]\n",
    "        for prediction, label in zip(predictions, labels)\n",
    "    ]\n",
    "\n",
    "    results = seqeval.compute(predictions=true_predictions, references=true_labels)\n",
    "    return {\n",
    "        \"precision\": results[\"overall_precision\"],\n",
    "        \"recall\": results[\"overall_recall\"],\n",
    "        \"f1\": results[\"overall_f1\"],\n",
    "        \"accuracy\": results[\"overall_accuracy\"],\n",
    "    }"
   ]
  },
  {
   "cell_type": "markdown",
   "id": "47c97d2b194b9a67",
   "metadata": {},
   "source": [
    "### Загрузка и обучение модели\n",
    "\n",
    "Для обучения будем использовать [мультиязычную версию](https://huggingface.co/distilbert/distilbert-base-multilingual-cased) distilBERT"
   ]
  },
  {
   "cell_type": "code",
   "execution_count": 10,
   "id": "489128db20b8889f",
   "metadata": {},
   "outputs": [],
   "source": [
    "id2label = {\n",
    "    0: \"O\",\n",
    "    1: \"B-PER\",\n",
    "    2: \"I-PER\",\n",
    "    3: \"B-ORG\",\n",
    "    4: \"I-ORG\",\n",
    "    5: \"B-LOC\",\n",
    "    6: \"I-LOC\",\n",
    "    7: \"B-MISC\",\n",
    "    8: \"I-MISC\",\n",
    "}\n",
    "label2id = {\n",
    "    \"O\": 0,\n",
    "    \"B-PER\": 1,\n",
    "    \"I-PER\": 2,\n",
    "    \"B-ORG\": 3,\n",
    "    \"I-ORG\": 4,\n",
    "    \"B-LOC\": 5,\n",
    "    \"I-LOC\": 6,\n",
    "    \"B-MISC\": 7,\n",
    "    \"I-MISC\": 8,\n",
    "}"
   ]
  },
  {
   "cell_type": "code",
   "execution_count": 11,
   "id": "59c5766ef99ce834",
   "metadata": {},
   "outputs": [
    {
     "name": "stderr",
     "output_type": "stream",
     "text": [
      "Some weights of DistilBertForTokenClassification were not initialized from the model checkpoint at distilbert/distilbert-base-multilingual-cased and are newly initialized: ['classifier.bias', 'classifier.weight']\n",
      "You should probably TRAIN this model on a down-stream task to be able to use it for predictions and inference.\n"
     ]
    }
   ],
   "source": [
    "# Загрузка модели\n",
    "model = AutoModelForTokenClassification.from_pretrained(\n",
    "    \"distilbert/distilbert-base-multilingual-cased\",\n",
    "    num_labels=9,\n",
    "    id2label=id2label,\n",
    "    label2id=label2id,\n",
    ")"
   ]
  },
  {
   "cell_type": "code",
   "execution_count": 13,
   "id": "8879d4543914f012",
   "metadata": {
    "ExecuteTime": {
     "end_time": "2024-06-06T16:28:59.030211Z",
     "start_time": "2024-06-06T16:28:58.960789Z"
    }
   },
   "outputs": [],
   "source": [
    "# Аргументы для обучения\n",
    "training_args = TrainingArguments(\n",
    "    output_dir=\"distilBERT\",\n",
    "    learning_rate=2e-5,\n",
    "    per_device_train_batch_size=16,\n",
    "    per_device_eval_batch_size=16,\n",
    "    num_train_epochs=3,\n",
    "    weight_decay=0.01,\n",
    "    eval_strategy=\"epoch\",\n",
    "    save_strategy=\"epoch\",\n",
    "    load_best_model_at_end=True,\n",
    "    push_to_hub=False,\n",
    ")"
   ]
  },
  {
   "cell_type": "code",
   "execution_count": 14,
   "id": "a2ff375ceac6482d",
   "metadata": {
    "ExecuteTime": {
     "end_time": "2024-06-06T16:28:59.220855Z",
     "start_time": "2024-06-06T16:28:59.031215Z"
    }
   },
   "outputs": [],
   "source": [
    "# Описание тренера\n",
    "trainer = Trainer(\n",
    "    model=model,\n",
    "    args=training_args,\n",
    "    train_dataset=tokenized_dataset[\"train_ru\"],\n",
    "    eval_dataset=tokenized_dataset[\"val_ru\"],\n",
    "    tokenizer=tokenizer,\n",
    "    data_collator=data_collator,\n",
    "    compute_metrics=compute_metrics,\n",
    ")"
   ]
  },
  {
   "cell_type": "code",
   "execution_count": 15,
   "id": "a266debbc8874b77",
   "metadata": {
    "ExecuteTime": {
     "end_time": "2024-06-06T17:03:57.929884Z",
     "start_time": "2024-06-06T16:28:59.220855Z"
    }
   },
   "outputs": [
    {
     "data": {
      "text/html": [
       "\n",
       "    <div>\n",
       "      \n",
       "      <progress value='17310' max='17310' style='width:300px; height:20px; vertical-align: middle;'></progress>\n",
       "      [17310/17310 34:58, Epoch 3/3]\n",
       "    </div>\n",
       "    <table border=\"1\" class=\"dataframe\">\n",
       "  <thead>\n",
       " <tr style=\"text-align: left;\">\n",
       "      <th>Epoch</th>\n",
       "      <th>Training Loss</th>\n",
       "      <th>Validation Loss</th>\n",
       "      <th>Precision</th>\n",
       "      <th>Recall</th>\n",
       "      <th>F1</th>\n",
       "      <th>Accuracy</th>\n",
       "    </tr>\n",
       "  </thead>\n",
       "  <tbody>\n",
       "    <tr>\n",
       "      <td>1</td>\n",
       "      <td>0.047400</td>\n",
       "      <td>0.042902</td>\n",
       "      <td>0.882115</td>\n",
       "      <td>0.899506</td>\n",
       "      <td>0.890726</td>\n",
       "      <td>0.985407</td>\n",
       "    </tr>\n",
       "    <tr>\n",
       "      <td>2</td>\n",
       "      <td>0.029300</td>\n",
       "      <td>0.041630</td>\n",
       "      <td>0.893203</td>\n",
       "      <td>0.912136</td>\n",
       "      <td>0.902570</td>\n",
       "      <td>0.986338</td>\n",
       "    </tr>\n",
       "    <tr>\n",
       "      <td>3</td>\n",
       "      <td>0.018500</td>\n",
       "      <td>0.043006</td>\n",
       "      <td>0.902096</td>\n",
       "      <td>0.912301</td>\n",
       "      <td>0.907170</td>\n",
       "      <td>0.987169</td>\n",
       "    </tr>\n",
       "  </tbody>\n",
       "</table><p>"
      ],
      "text/plain": [
       "<IPython.core.display.HTML object>"
      ]
     },
     "metadata": {},
     "output_type": "display_data"
    },
    {
     "data": {
      "text/plain": [
       "TrainOutput(global_step=17310, training_loss=0.03671303313292223, metrics={'train_runtime': 2098.6184, 'train_samples_per_second': 131.973, 'train_steps_per_second': 8.248, 'total_flos': 5941936302049440.0, 'train_loss': 0.03671303313292223, 'epoch': 3.0})"
      ]
     },
     "execution_count": 15,
     "metadata": {},
     "output_type": "execute_result"
    }
   ],
   "source": [
    "# Обучение модели\n",
    "trainer.train()"
   ]
  },
  {
   "cell_type": "code",
   "execution_count": 16,
   "id": "c7bc6c52a705368f",
   "metadata": {
    "ExecuteTime": {
     "end_time": "2024-06-06T17:04:21.898377Z",
     "start_time": "2024-06-06T17:04:02.701292Z"
    }
   },
   "outputs": [
    {
     "data": {
      "text/html": [
       "\n",
       "    <div>\n",
       "      \n",
       "      <progress value='722' max='722' style='width:300px; height:20px; vertical-align: middle;'></progress>\n",
       "      [722/722 00:16]\n",
       "    </div>\n",
       "    "
      ],
      "text/plain": [
       "<IPython.core.display.HTML object>"
      ]
     },
     "metadata": {},
     "output_type": "display_data"
    },
    {
     "data": {
      "text/plain": [
       "{'eval_loss': 0.0416296049952507,\n",
       " 'eval_precision': 0.8932028393202839,\n",
       " 'eval_recall': 0.9121361889071938,\n",
       " 'eval_f1': 0.9025702331141662,\n",
       " 'eval_accuracy': 0.9863384575648139,\n",
       " 'eval_runtime': 19.1895,\n",
       " 'eval_samples_per_second': 601.372,\n",
       " 'eval_steps_per_second': 37.625,\n",
       " 'epoch': 3.0}"
      ]
     },
     "execution_count": 16,
     "metadata": {},
     "output_type": "execute_result"
    }
   ],
   "source": [
    "# Качество лучшей модели\n",
    "trainer.evaluate()"
   ]
  },
  {
   "cell_type": "code",
   "execution_count": 17,
   "id": "aef00866a4936e58",
   "metadata": {
    "ExecuteTime": {
     "end_time": "2024-06-06T17:04:25.933722Z",
     "start_time": "2024-06-06T17:04:21.898377Z"
    }
   },
   "outputs": [],
   "source": [
    "# Сохранение модели\n",
    "trainer.save_model(\"distilBERT/distilBERT_best_model/\")"
   ]
  }
 ],
 "metadata": {
  "kernelspec": {
   "display_name": "Python 3 (ipykernel)",
   "language": "python",
   "name": "python3"
  },
  "language_info": {
   "codemirror_mode": {
    "name": "ipython",
    "version": 3
   },
   "file_extension": ".py",
   "mimetype": "text/x-python",
   "name": "python",
   "nbconvert_exporter": "python",
   "pygments_lexer": "ipython3",
   "version": "3.11.8"
  }
 },
 "nbformat": 4,
 "nbformat_minor": 5
}
