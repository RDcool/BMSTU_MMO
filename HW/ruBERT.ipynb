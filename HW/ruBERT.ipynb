{
 "cells": [
  {
   "cell_type": "markdown",
   "id": "48584f83d619a2d9",
   "metadata": {},
   "source": [
    "# Named Entity Recognition. ruBERT\n",
    "\n",
    "**Борисочкин М. И. ИУ5-21М**"
   ]
  },
  {
   "cell_type": "code",
   "execution_count": 1,
   "id": "initial_id",
   "metadata": {
    "ExecuteTime": {
     "end_time": "2024-06-06T17:14:13.599626Z",
     "start_time": "2024-06-06T17:14:10.569121Z"
    },
    "collapsed": true
   },
   "outputs": [],
   "source": [
    "from datasets import load_dataset\n",
    "from transformers import DataCollatorForTokenClassification\n",
    "from transformers import AutoTokenizer, AutoModelForTokenClassification\n",
    "from transformers import TrainingArguments, Trainer\n",
    "\n",
    "import numpy as np\n",
    "import evaluate"
   ]
  },
  {
   "cell_type": "markdown",
   "id": "5f922e51087a7799",
   "metadata": {},
   "source": [
    "## Загрузка набора данных\n",
    "\n",
    "Для обучения будем использовать \"русскую\" часть [WikiNEuRal](https://github.com/Babelscape/wikineural?tab=readme-ov-file)"
   ]
  },
  {
   "cell_type": "code",
   "execution_count": 2,
   "id": "3d6d0276d5b8b8fd",
   "metadata": {
    "ExecuteTime": {
     "end_time": "2024-06-06T17:14:28.670196Z",
     "start_time": "2024-06-06T17:14:13.599842Z"
    }
   },
   "outputs": [],
   "source": [
    "# Загрузка датасета\n",
    "dataset = load_dataset(\"Babelscape/wikineural\")"
   ]
  },
  {
   "cell_type": "code",
   "execution_count": 3,
   "id": "6ce84aa7febb3b0",
   "metadata": {
    "ExecuteTime": {
     "end_time": "2024-06-06T17:14:28.675777Z",
     "start_time": "2024-06-06T17:14:28.671017Z"
    }
   },
   "outputs": [
    {
     "data": {
      "text/plain": [
       "{'tokens': ['Детство',\n",
       "  'провёл',\n",
       "  'в',\n",
       "  'Надьсомбате',\n",
       "  ',',\n",
       "  'с',\n",
       "  '1860',\n",
       "  'г',\n",
       "  '.'],\n",
       " 'ner_tags': [0, 0, 0, 5, 0, 0, 0, 0, 0],\n",
       " 'lang': 'ru'}"
      ]
     },
     "execution_count": 3,
     "metadata": {},
     "output_type": "execute_result"
    }
   ],
   "source": [
    "# Пример стркои из датасета\n",
    "dataset[\"train_ru\"][0]"
   ]
  },
  {
   "cell_type": "markdown",
   "id": "df893fdbc28ce241",
   "metadata": {},
   "source": "## Предобработка данных"
  },
  {
   "cell_type": "code",
   "execution_count": 4,
   "id": "6f38d5f2cc651cfd",
   "metadata": {
    "ExecuteTime": {
     "end_time": "2024-06-06T17:14:29.606275Z",
     "start_time": "2024-06-06T17:14:28.675777Z"
    }
   },
   "outputs": [
    {
     "name": "stderr",
     "output_type": "stream",
     "text": [
      "E:\\МГТУ\\Магистратура\\2 семестр\\ММО\\ДЗ\\HW\\venv\\Lib\\site-packages\\huggingface_hub\\file_download.py:1132: FutureWarning: `resume_download` is deprecated and will be removed in version 1.0.0. Downloads always resume when possible. If you want to force a new download, use `force_download=True`.\n",
      "  warnings.warn(\n"
     ]
    }
   ],
   "source": [
    "# Загрузка токенизатора\n",
    "tokenizer = AutoTokenizer.from_pretrained(\"ai-forever/ruBert-base\")"
   ]
  },
  {
   "cell_type": "code",
   "execution_count": 5,
   "id": "87a257c0b1a43cd1",
   "metadata": {
    "ExecuteTime": {
     "end_time": "2024-06-06T17:14:29.624423Z",
     "start_time": "2024-06-06T17:14:29.607279Z"
    }
   },
   "outputs": [
    {
     "data": {
      "text/plain": [
       "['[CLS]',\n",
       " 'детство',\n",
       " 'провел',\n",
       " 'в',\n",
       " 'над',\n",
       " '##ь',\n",
       " '##сом',\n",
       " '##бат',\n",
       " '##е',\n",
       " ',',\n",
       " 'с',\n",
       " '1860',\n",
       " 'г',\n",
       " '.',\n",
       " '[SEP]']"
      ]
     },
     "execution_count": 5,
     "metadata": {},
     "output_type": "execute_result"
    }
   ],
   "source": [
    "# Пример работы токенизатора\n",
    "example = dataset[\"train_ru\"][0]\n",
    "tokenized_input = tokenizer(example[\"tokens\"], is_split_into_words=True)\n",
    "tokens = tokenizer.convert_ids_to_tokens(tokenized_input[\"input_ids\"])\n",
    "tokens"
   ]
  },
  {
   "cell_type": "code",
   "execution_count": 6,
   "id": "64a7ce7b24188dfc",
   "metadata": {
    "ExecuteTime": {
     "end_time": "2024-06-06T17:14:29.628333Z",
     "start_time": "2024-06-06T17:14:29.624423Z"
    }
   },
   "outputs": [],
   "source": [
    "def tokenize_and_align_labels(examples):\n",
    "    \"\"\"Корректировка токенизации\n",
    "    Parameters\n",
    "    ----------\n",
    "    examples\n",
    "        Входное предложение\n",
    "    Returns\n",
    "    -------\n",
    "        tokenized_inputs\n",
    "            Токенизированный вход\n",
    "    \"\"\"\n",
    "    tokenized_inputs = tokenizer(\n",
    "        examples[\"tokens\"], truncation=True, is_split_into_words=True\n",
    "    )\n",
    "\n",
    "    labels = []\n",
    "    for i, label in enumerate(examples[f\"ner_tags\"]):\n",
    "        word_ids = tokenized_inputs.word_ids(batch_index=i)  # Токенизация\n",
    "        previous_word_idx = None\n",
    "        label_ids = []\n",
    "        for word_idx in word_ids:  # Установка значения спец. токенов -100\n",
    "            if word_idx is None:\n",
    "                label_ids.append(-100)\n",
    "            elif (\n",
    "                word_idx != previous_word_idx\n",
    "            ):  # Применяем метку только к первому слову в предложении при нескольких одинаковых словах в предложениии\n",
    "                label_ids.append(label[word_idx])\n",
    "            else:\n",
    "                label_ids.append(-100)\n",
    "            previous_word_idx = word_idx\n",
    "        labels.append(label_ids)\n",
    "\n",
    "    tokenized_inputs[\"labels\"] = labels\n",
    "    return tokenized_inputs"
   ]
  },
  {
   "cell_type": "code",
   "execution_count": 7,
   "id": "d2a7b3ef66d7c9cd",
   "metadata": {
    "ExecuteTime": {
     "end_time": "2024-06-06T17:15:48.499275Z",
     "start_time": "2024-06-06T17:14:29.629338Z"
    }
   },
   "outputs": [
    {
     "data": {
      "application/vnd.jupyter.widget-view+json": {
       "model_id": "cf846a92fc9c4e2fb6dd52aec67272a2",
       "version_major": 2,
       "version_minor": 0
      },
      "text/plain": [
       "Map:   0%|          | 0/12372 [00:00<?, ? examples/s]"
      ]
     },
     "metadata": {},
     "output_type": "display_data"
    },
    {
     "name": "stderr",
     "output_type": "stream",
     "text": [
      "Asking to truncate to max_length but no maximum length is provided and the model has no predefined maximum length. Default to no truncation.\n"
     ]
    },
    {
     "data": {
      "application/vnd.jupyter.widget-view+json": {
       "model_id": "f14cff0c57b14ebeb98d908d991af848",
       "version_major": 2,
       "version_minor": 0
      },
      "text/plain": [
       "Map:   0%|          | 0/11597 [00:00<?, ? examples/s]"
      ]
     },
     "metadata": {},
     "output_type": "display_data"
    },
    {
     "data": {
      "application/vnd.jupyter.widget-view+json": {
       "model_id": "a0127c3ee8bf415c843b6115a3e5774d",
       "version_major": 2,
       "version_minor": 0
      },
      "text/plain": [
       "Map:   0%|          | 0/9618 [00:00<?, ? examples/s]"
      ]
     },
     "metadata": {},
     "output_type": "display_data"
    },
    {
     "data": {
      "application/vnd.jupyter.widget-view+json": {
       "model_id": "c5987d84d50b4a0d92d8bb50072c7fbd",
       "version_major": 2,
       "version_minor": 0
      },
      "text/plain": [
       "Map:   0%|          | 0/12678 [00:00<?, ? examples/s]"
      ]
     },
     "metadata": {},
     "output_type": "display_data"
    },
    {
     "data": {
      "application/vnd.jupyter.widget-view+json": {
       "model_id": "0bf3625229b74084aa08a37d4a706fa6",
       "version_major": 2,
       "version_minor": 0
      },
      "text/plain": [
       "Map:   0%|          | 0/11069 [00:00<?, ? examples/s]"
      ]
     },
     "metadata": {},
     "output_type": "display_data"
    },
    {
     "data": {
      "application/vnd.jupyter.widget-view+json": {
       "model_id": "6e042f7fa1aa4e59984ae535d5c3f592",
       "version_major": 2,
       "version_minor": 0
      },
      "text/plain": [
       "Map:   0%|          | 0/10547 [00:00<?, ? examples/s]"
      ]
     },
     "metadata": {},
     "output_type": "display_data"
    },
    {
     "data": {
      "application/vnd.jupyter.widget-view+json": {
       "model_id": "6375563d476a44f9b9aefefe1126dd9c",
       "version_major": 2,
       "version_minor": 0
      },
      "text/plain": [
       "Map:   0%|          | 0/13585 [00:00<?, ? examples/s]"
      ]
     },
     "metadata": {},
     "output_type": "display_data"
    },
    {
     "data": {
      "application/vnd.jupyter.widget-view+json": {
       "model_id": "9f004521436443ac9137613d2e507ce9",
       "version_major": 2,
       "version_minor": 0
      },
      "text/plain": [
       "Map:   0%|          | 0/10160 [00:00<?, ? examples/s]"
      ]
     },
     "metadata": {},
     "output_type": "display_data"
    },
    {
     "data": {
      "application/vnd.jupyter.widget-view+json": {
       "model_id": "3045569dd37a41548d8d6e6ced32024f",
       "version_major": 2,
       "version_minor": 0
      },
      "text/plain": [
       "Map:   0%|          | 0/11580 [00:00<?, ? examples/s]"
      ]
     },
     "metadata": {},
     "output_type": "display_data"
    },
    {
     "data": {
      "application/vnd.jupyter.widget-view+json": {
       "model_id": "f6d79ce3fcf3422aa1de9d3d2a33ea74",
       "version_major": 2,
       "version_minor": 0
      },
      "text/plain": [
       "Map:   0%|          | 0/98640 [00:00<?, ? examples/s]"
      ]
     },
     "metadata": {},
     "output_type": "display_data"
    },
    {
     "data": {
      "application/vnd.jupyter.widget-view+json": {
       "model_id": "bb6256d783854e6d8a9e2efa9180d578",
       "version_major": 2,
       "version_minor": 0
      },
      "text/plain": [
       "Map:   0%|          | 0/92720 [00:00<?, ? examples/s]"
      ]
     },
     "metadata": {},
     "output_type": "display_data"
    },
    {
     "data": {
      "application/vnd.jupyter.widget-view+json": {
       "model_id": "0c9c7940f80a418491b4c8965c3a755e",
       "version_major": 2,
       "version_minor": 0
      },
      "text/plain": [
       "Map:   0%|          | 0/76320 [00:00<?, ? examples/s]"
      ]
     },
     "metadata": {},
     "output_type": "display_data"
    },
    {
     "data": {
      "application/vnd.jupyter.widget-view+json": {
       "model_id": "35ed0175d6b64bf69268453476880f70",
       "version_major": 2,
       "version_minor": 0
      },
      "text/plain": [
       "Map:   0%|          | 0/100800 [00:00<?, ? examples/s]"
      ]
     },
     "metadata": {},
     "output_type": "display_data"
    },
    {
     "data": {
      "application/vnd.jupyter.widget-view+json": {
       "model_id": "d8b12f3ee41a403e8da51c5897d395d2",
       "version_major": 2,
       "version_minor": 0
      },
      "text/plain": [
       "Map:   0%|          | 0/88400 [00:00<?, ? examples/s]"
      ]
     },
     "metadata": {},
     "output_type": "display_data"
    },
    {
     "data": {
      "application/vnd.jupyter.widget-view+json": {
       "model_id": "3e780e1144e14ffbb3620e6791f84dec",
       "version_major": 2,
       "version_minor": 0
      },
      "text/plain": [
       "Map:   0%|          | 0/83680 [00:00<?, ? examples/s]"
      ]
     },
     "metadata": {},
     "output_type": "display_data"
    },
    {
     "data": {
      "application/vnd.jupyter.widget-view+json": {
       "model_id": "cd4be5c173bd428c88b72cfa02b25946",
       "version_major": 2,
       "version_minor": 0
      },
      "text/plain": [
       "Map:   0%|          | 0/108160 [00:00<?, ? examples/s]"
      ]
     },
     "metadata": {},
     "output_type": "display_data"
    },
    {
     "data": {
      "application/vnd.jupyter.widget-view+json": {
       "model_id": "0f3b4f3db31b495097c062ffe938e91f",
       "version_major": 2,
       "version_minor": 0
      },
      "text/plain": [
       "Map:   0%|          | 0/80560 [00:00<?, ? examples/s]"
      ]
     },
     "metadata": {},
     "output_type": "display_data"
    },
    {
     "data": {
      "application/vnd.jupyter.widget-view+json": {
       "model_id": "a62e396db81d41d08670b74c71715e8a",
       "version_major": 2,
       "version_minor": 0
      },
      "text/plain": [
       "Map:   0%|          | 0/92320 [00:00<?, ? examples/s]"
      ]
     },
     "metadata": {},
     "output_type": "display_data"
    },
    {
     "data": {
      "application/vnd.jupyter.widget-view+json": {
       "model_id": "f88d7c936947479aa496a28100ff70af",
       "version_major": 2,
       "version_minor": 0
      },
      "text/plain": [
       "Map:   0%|          | 0/12330 [00:00<?, ? examples/s]"
      ]
     },
     "metadata": {},
     "output_type": "display_data"
    },
    {
     "data": {
      "application/vnd.jupyter.widget-view+json": {
       "model_id": "c91c696c429742b48e77233853e11891",
       "version_major": 2,
       "version_minor": 0
      },
      "text/plain": [
       "Map:   0%|          | 0/11590 [00:00<?, ? examples/s]"
      ]
     },
     "metadata": {},
     "output_type": "display_data"
    },
    {
     "data": {
      "application/vnd.jupyter.widget-view+json": {
       "model_id": "68e1844d4e3244a18e7d7cc8a91bf4b8",
       "version_major": 2,
       "version_minor": 0
      },
      "text/plain": [
       "Map:   0%|          | 0/9540 [00:00<?, ? examples/s]"
      ]
     },
     "metadata": {},
     "output_type": "display_data"
    },
    {
     "data": {
      "application/vnd.jupyter.widget-view+json": {
       "model_id": "0f88680c1ccf4ad0975aa602dfbe95b0",
       "version_major": 2,
       "version_minor": 0
      },
      "text/plain": [
       "Map:   0%|          | 0/12600 [00:00<?, ? examples/s]"
      ]
     },
     "metadata": {},
     "output_type": "display_data"
    },
    {
     "data": {
      "application/vnd.jupyter.widget-view+json": {
       "model_id": "f95c34e5695f42798761f0a4be692405",
       "version_major": 2,
       "version_minor": 0
      },
      "text/plain": [
       "Map:   0%|          | 0/11050 [00:00<?, ? examples/s]"
      ]
     },
     "metadata": {},
     "output_type": "display_data"
    },
    {
     "data": {
      "application/vnd.jupyter.widget-view+json": {
       "model_id": "90eaa8d0b4794d868cd33c45076ccdb1",
       "version_major": 2,
       "version_minor": 0
      },
      "text/plain": [
       "Map:   0%|          | 0/10460 [00:00<?, ? examples/s]"
      ]
     },
     "metadata": {},
     "output_type": "display_data"
    },
    {
     "data": {
      "application/vnd.jupyter.widget-view+json": {
       "model_id": "d74002dd8ce44c488b6d76bdff63e7bd",
       "version_major": 2,
       "version_minor": 0
      },
      "text/plain": [
       "Map:   0%|          | 0/13520 [00:00<?, ? examples/s]"
      ]
     },
     "metadata": {},
     "output_type": "display_data"
    },
    {
     "data": {
      "application/vnd.jupyter.widget-view+json": {
       "model_id": "0ff66935f7814baa914dd0365fbb0aa5",
       "version_major": 2,
       "version_minor": 0
      },
      "text/plain": [
       "Map:   0%|          | 0/10070 [00:00<?, ? examples/s]"
      ]
     },
     "metadata": {},
     "output_type": "display_data"
    },
    {
     "data": {
      "application/vnd.jupyter.widget-view+json": {
       "model_id": "76cc4a35280d46b38ec1657942cd047b",
       "version_major": 2,
       "version_minor": 0
      },
      "text/plain": [
       "Map:   0%|          | 0/11540 [00:00<?, ? examples/s]"
      ]
     },
     "metadata": {},
     "output_type": "display_data"
    }
   ],
   "source": [
    "# Применение токенизатора к датасету\n",
    "tokenized_dataset = dataset.map(tokenize_and_align_labels, batched=True)"
   ]
  },
  {
   "cell_type": "code",
   "execution_count": 8,
   "id": "4cbefeaa1fe7337b",
   "metadata": {
    "ExecuteTime": {
     "end_time": "2024-06-06T17:15:48.502367Z",
     "start_time": "2024-06-06T17:15:48.500283Z"
    }
   },
   "outputs": [],
   "source": [
    "# Загрузка DataCollator\n",
    "data_collator = DataCollatorForTokenClassification(tokenizer=tokenizer)"
   ]
  },
  {
   "cell_type": "markdown",
   "id": "41aa78b673fa31b5",
   "metadata": {},
   "source": "## Обучение модели"
  },
  {
   "cell_type": "markdown",
   "id": "85e25afddb9d960a",
   "metadata": {},
   "source": "### Метрики качества"
  },
  {
   "cell_type": "code",
   "execution_count": 9,
   "id": "7e45963a27bbb439",
   "metadata": {
    "ExecuteTime": {
     "end_time": "2024-06-06T17:15:49.404831Z",
     "start_time": "2024-06-06T17:15:48.503316Z"
    }
   },
   "outputs": [],
   "source": [
    "seqeval = evaluate.load(\"seqeval\")"
   ]
  },
  {
   "cell_type": "code",
   "execution_count": 10,
   "id": "7356ba3eb20146ab",
   "metadata": {
    "ExecuteTime": {
     "end_time": "2024-06-06T17:15:49.411063Z",
     "start_time": "2024-06-06T17:15:49.405835Z"
    }
   },
   "outputs": [],
   "source": [
    "def compute_metrics(p):\n",
    "    \"\"\"Функция для расчёта метрик\n",
    "    Parameters\n",
    "    ----------\n",
    "    p\n",
    "        Предсказание\n",
    "    Returns\n",
    "    -------\n",
    "    metrics\n",
    "        Метрики качества\n",
    "    \"\"\"\n",
    "    predictions, labels = p\n",
    "    predictions = np.argmax(predictions, axis=2)\n",
    "    label_list = [\n",
    "        \"O\",\n",
    "        \"B-PER\",\n",
    "        \"I-PER\",\n",
    "        \"B-ORG\",\n",
    "        \"I-ORG\",\n",
    "        \"B-LOC\",\n",
    "        \"I-LOC\",\n",
    "        \"B-MISC\",\n",
    "        \"I-MISC\",\n",
    "    ]\n",
    "\n",
    "    true_predictions = [\n",
    "        [label_list[p] for (p, l) in zip(prediction, label) if l != -100]\n",
    "        for prediction, label in zip(predictions, labels)\n",
    "    ]\n",
    "    true_labels = [\n",
    "        [label_list[l] for (p, l) in zip(prediction, label) if l != -100]\n",
    "        for prediction, label in zip(predictions, labels)\n",
    "    ]\n",
    "\n",
    "    results = seqeval.compute(predictions=true_predictions, references=true_labels)\n",
    "    return {\n",
    "        \"precision\": results[\"overall_precision\"],\n",
    "        \"recall\": results[\"overall_recall\"],\n",
    "        \"f1\": results[\"overall_f1\"],\n",
    "        \"accuracy\": results[\"overall_accuracy\"],\n",
    "    }"
   ]
  },
  {
   "cell_type": "markdown",
   "id": "47c97d2b194b9a67",
   "metadata": {},
   "source": [
    "### Загрузка и обучение модели\n",
    "\n",
    "Для обучения будем использовать [данную версию](https://huggingface.co/ai-forever/ruBert-base) ruBERT"
   ]
  },
  {
   "cell_type": "code",
   "execution_count": 11,
   "id": "489128db20b8889f",
   "metadata": {
    "ExecuteTime": {
     "end_time": "2024-06-06T17:15:49.418099Z",
     "start_time": "2024-06-06T17:15:49.412068Z"
    }
   },
   "outputs": [],
   "source": [
    "id2label = {\n",
    "    0: \"O\",\n",
    "    1: \"B-PER\",\n",
    "    2: \"I-PER\",\n",
    "    3: \"B-ORG\",\n",
    "    4: \"I-ORG\",\n",
    "    5: \"B-LOC\",\n",
    "    6: \"I-LOC\",\n",
    "    7: \"B-MISC\",\n",
    "    8: \"I-MISC\",\n",
    "}\n",
    "label2id = {\n",
    "    \"O\": 0,\n",
    "    \"B-PER\": 1,\n",
    "    \"I-PER\": 2,\n",
    "    \"B-ORG\": 3,\n",
    "    \"I-ORG\": 4,\n",
    "    \"B-LOC\": 5,\n",
    "    \"I-LOC\": 6,\n",
    "    \"B-MISC\": 7,\n",
    "    \"I-MISC\": 8,\n",
    "}"
   ]
  },
  {
   "cell_type": "code",
   "execution_count": 12,
   "id": "59c5766ef99ce834",
   "metadata": {
    "ExecuteTime": {
     "end_time": "2024-06-06T17:15:51.009059Z",
     "start_time": "2024-06-06T17:15:49.418099Z"
    }
   },
   "outputs": [
    {
     "name": "stderr",
     "output_type": "stream",
     "text": [
      "Some weights of BertForTokenClassification were not initialized from the model checkpoint at ai-forever/ruBert-base and are newly initialized: ['classifier.bias', 'classifier.weight']\n",
      "You should probably TRAIN this model on a down-stream task to be able to use it for predictions and inference.\n"
     ]
    }
   ],
   "source": [
    "# Загрузка модели\n",
    "model = AutoModelForTokenClassification.from_pretrained(\n",
    "    \"ai-forever/ruBert-base\", num_labels=9, id2label=id2label, label2id=label2id\n",
    ")"
   ]
  },
  {
   "cell_type": "code",
   "execution_count": 13,
   "id": "8879d4543914f012",
   "metadata": {
    "ExecuteTime": {
     "end_time": "2024-06-06T17:15:51.062918Z",
     "start_time": "2024-06-06T17:15:51.009563Z"
    }
   },
   "outputs": [],
   "source": [
    "# Аргументы для обучения\n",
    "training_args = TrainingArguments(\n",
    "    output_dir=\"ruBERT\",\n",
    "    learning_rate=2e-5,\n",
    "    per_device_train_batch_size=16,\n",
    "    per_device_eval_batch_size=16,\n",
    "    num_train_epochs=3,\n",
    "    weight_decay=0.01,\n",
    "    eval_strategy=\"epoch\",\n",
    "    save_strategy=\"epoch\",\n",
    "    load_best_model_at_end=True,\n",
    "    push_to_hub=False,\n",
    ")"
   ]
  },
  {
   "cell_type": "code",
   "execution_count": 14,
   "id": "a2ff375ceac6482d",
   "metadata": {
    "ExecuteTime": {
     "end_time": "2024-06-06T17:15:51.357138Z",
     "start_time": "2024-06-06T17:15:51.063923Z"
    }
   },
   "outputs": [],
   "source": [
    "# Описание тренера\n",
    "trainer = Trainer(\n",
    "    model=model,\n",
    "    args=training_args,\n",
    "    train_dataset=tokenized_dataset[\"train_ru\"],\n",
    "    eval_dataset=tokenized_dataset[\"val_ru\"],\n",
    "    tokenizer=tokenizer,\n",
    "    data_collator=data_collator,\n",
    "    compute_metrics=compute_metrics,\n",
    ")"
   ]
  },
  {
   "cell_type": "code",
   "execution_count": 15,
   "id": "a266debbc8874b77",
   "metadata": {
    "ExecuteTime": {
     "end_time": "2024-06-06T18:06:16.698372Z",
     "start_time": "2024-06-06T17:15:51.357138Z"
    }
   },
   "outputs": [
    {
     "name": "stderr",
     "output_type": "stream",
     "text": [
      "E:\\МГТУ\\Магистратура\\2 семестр\\ММО\\ДЗ\\HW\\venv\\Lib\\site-packages\\transformers\\models\\bert\\modeling_bert.py:435: UserWarning: 1Torch was not compiled with flash attention. (Triggered internally at ..\\aten\\src\\ATen\\native\\transformers\\cuda\\sdp_utils.cpp:455.)\n",
      "  attn_output = torch.nn.functional.scaled_dot_product_attention(\n"
     ]
    },
    {
     "data": {
      "text/html": [
       "\n",
       "    <div>\n",
       "      \n",
       "      <progress value='17310' max='17310' style='width:300px; height:20px; vertical-align: middle;'></progress>\n",
       "      [17310/17310 50:24, Epoch 3/3]\n",
       "    </div>\n",
       "    <table border=\"1\" class=\"dataframe\">\n",
       "  <thead>\n",
       " <tr style=\"text-align: left;\">\n",
       "      <th>Epoch</th>\n",
       "      <th>Training Loss</th>\n",
       "      <th>Validation Loss</th>\n",
       "      <th>Precision</th>\n",
       "      <th>Recall</th>\n",
       "      <th>F1</th>\n",
       "      <th>Accuracy</th>\n",
       "    </tr>\n",
       "  </thead>\n",
       "  <tbody>\n",
       "    <tr>\n",
       "      <td>1</td>\n",
       "      <td>0.066000</td>\n",
       "      <td>0.060656</td>\n",
       "      <td>0.866045</td>\n",
       "      <td>0.876936</td>\n",
       "      <td>0.871456</td>\n",
       "      <td>0.980347</td>\n",
       "    </tr>\n",
       "    <tr>\n",
       "      <td>2</td>\n",
       "      <td>0.040200</td>\n",
       "      <td>0.058756</td>\n",
       "      <td>0.878942</td>\n",
       "      <td>0.884734</td>\n",
       "      <td>0.881828</td>\n",
       "      <td>0.981749</td>\n",
       "    </tr>\n",
       "    <tr>\n",
       "      <td>3</td>\n",
       "      <td>0.025400</td>\n",
       "      <td>0.065435</td>\n",
       "      <td>0.877973</td>\n",
       "      <td>0.887809</td>\n",
       "      <td>0.882864</td>\n",
       "      <td>0.982127</td>\n",
       "    </tr>\n",
       "  </tbody>\n",
       "</table><p>"
      ],
      "text/plain": [
       "<IPython.core.display.HTML object>"
      ]
     },
     "metadata": {},
     "output_type": "display_data"
    },
    {
     "data": {
      "text/plain": [
       "TrainOutput(global_step=17310, training_loss=0.04991684290523959, metrics={'train_runtime': 3025.2406, 'train_samples_per_second': 91.55, 'train_steps_per_second': 5.722, 'total_flos': 8860619315663712.0, 'train_loss': 0.04991684290523959, 'epoch': 3.0})"
      ]
     },
     "execution_count": 15,
     "metadata": {},
     "output_type": "execute_result"
    }
   ],
   "source": [
    "# Обучение модели\n",
    "trainer.train()"
   ]
  },
  {
   "cell_type": "code",
   "execution_count": 16,
   "id": "c7bc6c52a705368f",
   "metadata": {
    "ExecuteTime": {
     "end_time": "2024-06-06T18:06:42.929575Z",
     "start_time": "2024-06-06T18:06:16.698372Z"
    }
   },
   "outputs": [
    {
     "data": {
      "text/html": [
       "\n",
       "    <div>\n",
       "      \n",
       "      <progress value='722' max='722' style='width:300px; height:20px; vertical-align: middle;'></progress>\n",
       "      [722/722 00:24]\n",
       "    </div>\n",
       "    "
      ],
      "text/plain": [
       "<IPython.core.display.HTML object>"
      ]
     },
     "metadata": {},
     "output_type": "display_data"
    },
    {
     "data": {
      "text/plain": [
       "{'eval_loss': 0.058756403625011444,\n",
       " 'eval_precision': 0.8789416257501363,\n",
       " 'eval_recall': 0.8847336628226249,\n",
       " 'eval_f1': 0.8818281335522714,\n",
       " 'eval_accuracy': 0.9817492493531292,\n",
       " 'eval_runtime': 26.2233,\n",
       " 'eval_samples_per_second': 440.067,\n",
       " 'eval_steps_per_second': 27.533,\n",
       " 'epoch': 3.0}"
      ]
     },
     "execution_count": 16,
     "metadata": {},
     "output_type": "execute_result"
    }
   ],
   "source": [
    "# Качество лучшей модели\n",
    "trainer.evaluate()"
   ]
  },
  {
   "cell_type": "code",
   "execution_count": 17,
   "id": "aef00866a4936e58",
   "metadata": {
    "ExecuteTime": {
     "end_time": "2024-06-06T18:06:46.611259Z",
     "start_time": "2024-06-06T18:06:42.930578Z"
    }
   },
   "outputs": [],
   "source": [
    "# Сохранение модели\n",
    "trainer.save_model(\"ruBERT/ruBERT_best_model/\")"
   ]
  }
 ],
 "metadata": {
  "kernelspec": {
   "display_name": "Python 3",
   "language": "python",
   "name": "python3"
  },
  "language_info": {
   "codemirror_mode": {
    "name": "ipython",
    "version": 2
   },
   "file_extension": ".py",
   "mimetype": "text/x-python",
   "name": "python",
   "nbconvert_exporter": "python",
   "pygments_lexer": "ipython2",
   "version": "2.7.6"
  }
 },
 "nbformat": 4,
 "nbformat_minor": 5
}
